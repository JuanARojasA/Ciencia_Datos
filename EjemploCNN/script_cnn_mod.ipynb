{
  "nbformat": 4,
  "nbformat_minor": 0,
  "metadata": {
    "kernelspec": {
      "display_name": "Python 3",
      "language": "python",
      "name": "python3"
    },
    "language_info": {
      "codemirror_mode": {
        "name": "ipython",
        "version": 3
      },
      "file_extension": ".py",
      "mimetype": "text/x-python",
      "name": "python",
      "nbconvert_exporter": "python",
      "pygments_lexer": "ipython3",
      "version": "3.6.9"
    },
    "colab": {
      "name": "script_cnn_mod.ipynb",
      "provenance": [],
      "collapsed_sections": [],
      "toc_visible": true,
      "include_colab_link": true
    }
  },
  "cells": [
    {
      "cell_type": "markdown",
      "metadata": {
        "id": "view-in-github",
        "colab_type": "text"
      },
      "source": [
        "<a href=\"https://colab.research.google.com/github/JuanARojasA/Ciencia_Datos/blob/master/EjemploCNN/script_cnn_mod.ipynb\" target=\"_parent\"><img src=\"https://colab.research.google.com/assets/colab-badge.svg\" alt=\"Open In Colab\"/></a>"
      ]
    },
    {
      "cell_type": "code",
      "metadata": {
        "id": "y8AAmhtFvYq5",
        "colab_type": "code",
        "colab": {
          "base_uri": "https://localhost:8080/",
          "height": 72
        },
        "outputId": "932f8be1-5f68-485e-ce22-321eed7133e8"
      },
      "source": [
        "# Permite importar el drive a Colab\n",
        "from google.colab import drive\n",
        "drive.mount('/content/drive')\n",
        "\n",
        "# Esta linea se usa para importar el repositorio de Github\n",
        "!git clone https://github.com/JuanARojasA/Ciencia_Datos.git\n",
        "!ls"
      ],
      "execution_count": 27,
      "outputs": [
        {
          "output_type": "stream",
          "text": [
            "Mounted at /content/drive\n",
            "fatal: destination path 'Ciencia_Datos' already exists and is not an empty directory.\n",
            "Ciencia_Datos  drive  gdrive  sample_data\n"
          ],
          "name": "stdout"
        }
      ]
    },
    {
      "cell_type": "code",
      "metadata": {
        "id": "mpekrsKLAb1o",
        "colab_type": "code",
        "colab": {}
      },
      "source": [
        "# -*- coding: utf-8 -*-\n",
        "\n",
        "# Librerías propias para las redes neuronales por convolución\n",
        "import keras\n",
        "from keras.preprocessing.image import ImageDataGenerator\n",
        "from keras.models import Sequential, load_model\n",
        "from keras.layers import Dense, Dropout, Flatten, Activation\n",
        "from keras.layers import Conv2D, MaxPooling2D, BatchNormalization\n",
        "from keras.callbacks import EarlyStopping, ModelCheckpoint\n",
        "import tensorflow as tf\n",
        "from keras import backend as K\n",
        "from keras.utils import to_categorical\n",
        "\n",
        "# Libreria para arreglos multidimensionales\n",
        "import numpy as np\n",
        "\n",
        "\n",
        "# Librería para graficar \n",
        "import matplotlib.pyplot as plt\n",
        "from scipy import interp\n",
        "from itertools import cycle\n",
        "import itertools\n",
        "\n",
        "# Librerías para obtener métricas\n",
        "from sklearn.metrics import accuracy_score\n",
        "from sklearn.metrics import precision_score\n",
        "from sklearn.metrics import recall_score\n",
        "from sklearn.metrics import f1_score\n",
        "from sklearn.metrics import cohen_kappa_score\n",
        "from sklearn.metrics import roc_auc_score\n",
        "from sklearn.metrics import confusion_matrix\n",
        "from sklearn.metrics import roc_curve, auc"
      ],
      "execution_count": 0,
      "outputs": []
    },
    {
      "cell_type": "markdown",
      "metadata": {
        "id": "IyNBO9nOVMHE",
        "colab_type": "text"
      },
      "source": [
        "# Sección nueva"
      ]
    },
    {
      "cell_type": "code",
      "metadata": {
        "id": "iNfWObKqAb1w",
        "colab_type": "code",
        "colab": {}
      },
      "source": [
        "# Preparación del entorno para trabajar sobre GPU\n",
        "K.tensorflow_backend._get_available_gpus()\n",
        "config = tf.ConfigProto( device_count = {'GPU': 1} )\n",
        "sess = tf.Session(config=config)\n",
        "keras.backend.set_session(sess)"
      ],
      "execution_count": 0,
      "outputs": []
    },
    {
      "cell_type": "code",
      "metadata": {
        "id": "kcby02yEAb11",
        "colab_type": "code",
        "colab": {}
      },
      "source": [
        "# Rutas de los conjuntos de imagenes\n",
        "# Estas rutas son válidas si importan a Colab su drive y si han puesto la caperta \"final\" en la raiz de su drive\n",
        "ruta_dataset_entrenamiento = \"/content//Ciencia_Datos/EjemploCNN/training\"\n",
        "ruta_dataset_prueba = \"/content//Ciencia_Datos/EjemploCNN/test\"\n",
        "ruta_dataset_validacion = \"/content//Ciencia_Datos/EjemploCNN/validation\"\n",
        "num_classes = 3"
      ],
      "execution_count": 0,
      "outputs": []
    },
    {
      "cell_type": "code",
      "metadata": {
        "id": "XDNREQZcAb15",
        "colab_type": "code",
        "colab": {}
      },
      "source": [
        "# Preprocesamiento\n",
        "#Data aumentation\n",
        "train_datagen = ImageDataGenerator(rescale=1./255)\n",
        "test_datagen = ImageDataGenerator(rescale=1./255)\n",
        "validation_datagen = ImageDataGenerator(rescale=1./255)"
      ],
      "execution_count": 0,
      "outputs": []
    },
    {
      "cell_type": "code",
      "metadata": {
        "id": "9Krf0N9OAb19",
        "colab_type": "code",
        "outputId": "78466a1c-fa18-4d81-8a36-687dd805bcba",
        "colab": {
          "base_uri": "https://localhost:8080/",
          "height": 72
        }
      },
      "source": [
        "#Load Data\n",
        "train_generator = train_datagen.flow_from_directory(ruta_dataset_entrenamiento,target_size=(80,80),color_mode='rgb',batch_size=32,class_mode='categorical',shuffle=True)\n",
        "test_generator = test_datagen.flow_from_directory(ruta_dataset_prueba,target_size=(80,80),color_mode='rgb',batch_size=1,class_mode='categorical',shuffle=False)\n",
        "validation_generator = validation_datagen.flow_from_directory(ruta_dataset_validacion,target_size=(80,80),color_mode='rgb',batch_size=32,class_mode='categorical',shuffle=True)\n"
      ],
      "execution_count": 32,
      "outputs": [
        {
          "output_type": "stream",
          "text": [
            "Found 1540 images belonging to 3 classes.\n",
            "Found 300 images belonging to 3 classes.\n",
            "Found 360 images belonging to 3 classes.\n"
          ],
          "name": "stdout"
        }
      ]
    },
    {
      "cell_type": "markdown",
      "metadata": {
        "id": "Ff_dLUorAb2B",
        "colab_type": "text"
      },
      "source": [
        "## Modelo\n",
        "    Se presenta el diseño del modelo de la red neuronal por convolución tomado de: https://www.kaggle.com/byrachonok/keras-for-search-ships-in-satellite-image. Lo que se muestra son las capas y como ir añadiendo cada una de ellas y sus hiperparámetros.\n",
        "    \n",
        "    Después, se muestra la compilación del modelo, definiendo la función de pérdida, el optimizador y las métricas.\n",
        "    \n",
        "    En la parte de entrenamiento, se define funciones de callbacks, en este caso EarlyStopping y ModelCheckpoint. Una vez definidas estas funciones, se realiza el entrenamiento del modelo, con el conjunto de entrenamiento y de validación. Se definen un número de 32 epochs pero al tener el earlystopping se detiene cuando el valor de loss validation no mejora en 4 iteraciones y mediante el modelcheckpoint se guarda ese modelo. Posterior a esto, se presenta dos gráficas, una de ella presenta la función de pérdida en entrenamiento y validación y la otra la métrica de accuracy en fase de entrenamiento y validación.\n",
        "    "
      ]
    },
    {
      "cell_type": "code",
      "metadata": {
        "id": "r6i-Mw5YAb2C",
        "colab_type": "code",
        "colab": {}
      },
      "source": [
        "\n",
        "#Design\n",
        "# Se define como un modelo secuencial\n",
        "model = Sequential()\n",
        "\n",
        "# Se añaden las capas y sus hiperparámetros\n",
        "model.add(Conv2D(32, (3, 3), padding='same', input_shape=(80, 80, 3), activation='relu'))\n",
        "model.add(MaxPooling2D(pool_size=(2, 2))) #40x40\n",
        "model.add(Dropout(0.25))\n",
        "\n",
        "model.add(Conv2D(32, (3, 3), padding='same', activation='relu'))\n",
        "model.add(MaxPooling2D(pool_size=(2, 2))) #20x20\n",
        "model.add(Dropout(0.25))\n",
        "\n",
        "model.add(Conv2D(32, (3, 3), padding='same', activation='relu'))\n",
        "model.add(MaxPooling2D(pool_size=(2, 2))) #10x10\n",
        "model.add(Dropout(0.25))\n",
        "\n",
        "model.add(Conv2D(32, (10, 10), padding='same', activation='relu'))\n",
        "model.add(MaxPooling2D(pool_size=(2, 2))) #5x5\n",
        "model.add(Dropout(0.25))\n",
        "\n",
        "model.add(Flatten())\n",
        "model.add(Dense(512, activation='relu'))\n",
        "model.add(Dropout(0.5))\n",
        "# La capa de salida debe tener el mismo número de clases\n",
        "model.add(Dense(num_classes, activation='softmax'))\n"
      ],
      "execution_count": 0,
      "outputs": []
    },
    {
      "cell_type": "code",
      "metadata": {
        "id": "yeB5kO_TAb2H",
        "colab_type": "code",
        "colab": {}
      },
      "source": [
        "#Compilation\n",
        "model.compile(loss='categorical_crossentropy',optimizer='adam',metrics=['accuracy'])"
      ],
      "execution_count": 0,
      "outputs": []
    },
    {
      "cell_type": "code",
      "metadata": {
        "id": "sYT7SR4_Ab2L",
        "colab_type": "code",
        "outputId": "5fbb25cd-b35b-49e9-8a06-b85e7d3fffc9",
        "colab": {
          "base_uri": "https://localhost:8080/",
          "height": 1000
        }
      },
      "source": [
        "#Training\n",
        "# Funciones callbacks\n",
        "callbacks = [EarlyStopping(monitor='val_loss', mode='min', verbose=1,patience=5), ModelCheckpoint(filepath=\"/content/Ciencia_Datos/EjemploCNN/model_jupyter.h5\", monitor='val_loss', save_best_only=True, verbose=1,mode='min')]\n",
        "\n",
        "\n",
        "step_size_train=train_generator.n/train_generator.batch_size\n",
        "step_size_validation=validation_generator.n/validation_generator.batch_size\n",
        "history = model.fit_generator(generator=train_generator,\n",
        "                   steps_per_epoch=step_size_train,\n",
        "                   validation_data = validation_generator,\n",
        "                   validation_steps = step_size_validation,\n",
        "                   epochs=32, callbacks=callbacks)"
      ],
      "execution_count": 36,
      "outputs": [
        {
          "output_type": "stream",
          "text": [
            "Epoch 1/32\n",
            "49/48 [==============================] - 21s 436ms/step - loss: 1.0425 - acc: 0.4159 - val_loss: 0.9035 - val_acc: 0.5861\n",
            "\n",
            "Epoch 00001: val_loss improved from inf to 0.90354, saving model to /content/Ciencia_Datos/EjemploCNN/model_jupyter.h5\n",
            "Epoch 2/32\n",
            "49/48 [==============================] - 20s 413ms/step - loss: 0.8380 - acc: 0.6122 - val_loss: 0.9870 - val_acc: 0.4222\n",
            "\n",
            "Epoch 00002: val_loss did not improve from 0.90354\n",
            "Epoch 3/32\n",
            "49/48 [==============================] - 21s 422ms/step - loss: 0.7312 - acc: 0.6983 - val_loss: 0.8448 - val_acc: 0.6389\n",
            "\n",
            "Epoch 00003: val_loss improved from 0.90354 to 0.84476, saving model to /content/Ciencia_Datos/EjemploCNN/model_jupyter.h5\n",
            "Epoch 4/32\n",
            "49/48 [==============================] - 21s 421ms/step - loss: 0.6709 - acc: 0.7310 - val_loss: 0.8630 - val_acc: 0.5889\n",
            "\n",
            "Epoch 00004: val_loss did not improve from 0.84476\n",
            "Epoch 5/32\n",
            "49/48 [==============================] - 21s 420ms/step - loss: 0.5774 - acc: 0.7851 - val_loss: 0.6574 - val_acc: 0.7389\n",
            "\n",
            "Epoch 00005: val_loss improved from 0.84476 to 0.65738, saving model to /content/Ciencia_Datos/EjemploCNN/model_jupyter.h5\n",
            "Epoch 6/32\n",
            "49/48 [==============================] - 21s 420ms/step - loss: 0.4840 - acc: 0.8062 - val_loss: 0.6208 - val_acc: 0.7639\n",
            "\n",
            "Epoch 00006: val_loss improved from 0.65738 to 0.62079, saving model to /content/Ciencia_Datos/EjemploCNN/model_jupyter.h5\n",
            "Epoch 7/32\n",
            "49/48 [==============================] - 20s 417ms/step - loss: 0.4679 - acc: 0.8344 - val_loss: 0.6225 - val_acc: 0.7917\n",
            "\n",
            "Epoch 00007: val_loss did not improve from 0.62079\n",
            "Epoch 8/32\n",
            "49/48 [==============================] - 21s 421ms/step - loss: 0.4052 - acc: 0.8482 - val_loss: 0.5085 - val_acc: 0.8111\n",
            "\n",
            "Epoch 00008: val_loss improved from 0.62079 to 0.50855, saving model to /content/Ciencia_Datos/EjemploCNN/model_jupyter.h5\n",
            "Epoch 9/32\n",
            "49/48 [==============================] - 21s 422ms/step - loss: 0.4196 - acc: 0.8420 - val_loss: 0.5261 - val_acc: 0.7889\n",
            "\n",
            "Epoch 00009: val_loss did not improve from 0.50855\n",
            "Epoch 10/32\n",
            "49/48 [==============================] - 21s 420ms/step - loss: 0.3366 - acc: 0.8750 - val_loss: 0.5178 - val_acc: 0.7667\n",
            "\n",
            "Epoch 00010: val_loss did not improve from 0.50855\n",
            "Epoch 11/32\n",
            "49/48 [==============================] - 20s 418ms/step - loss: 0.3362 - acc: 0.8681 - val_loss: 0.4000 - val_acc: 0.8583\n",
            "\n",
            "Epoch 00011: val_loss improved from 0.50855 to 0.39998, saving model to /content/Ciencia_Datos/EjemploCNN/model_jupyter.h5\n",
            "Epoch 12/32\n",
            "49/48 [==============================] - 21s 420ms/step - loss: 0.2894 - acc: 0.8910 - val_loss: 0.4339 - val_acc: 0.8139\n",
            "\n",
            "Epoch 00012: val_loss did not improve from 0.39998\n",
            "Epoch 13/32\n",
            "49/48 [==============================] - 21s 420ms/step - loss: 0.2622 - acc: 0.9107 - val_loss: 0.3807 - val_acc: 0.8500\n",
            "\n",
            "Epoch 00013: val_loss improved from 0.39998 to 0.38071, saving model to /content/Ciencia_Datos/EjemploCNN/model_jupyter.h5\n",
            "Epoch 14/32\n",
            "49/48 [==============================] - 21s 421ms/step - loss: 0.2677 - acc: 0.9006 - val_loss: 0.4223 - val_acc: 0.8306\n",
            "\n",
            "Epoch 00014: val_loss did not improve from 0.38071\n",
            "Epoch 15/32\n",
            "49/48 [==============================] - 21s 424ms/step - loss: 0.2331 - acc: 0.9177 - val_loss: 0.3885 - val_acc: 0.8333\n",
            "\n",
            "Epoch 00015: val_loss did not improve from 0.38071\n",
            "Epoch 16/32\n",
            "49/48 [==============================] - 21s 425ms/step - loss: 0.2538 - acc: 0.9012 - val_loss: 0.4100 - val_acc: 0.8472\n",
            "\n",
            "Epoch 00016: val_loss did not improve from 0.38071\n",
            "Epoch 17/32\n",
            "49/48 [==============================] - 21s 424ms/step - loss: 0.2074 - acc: 0.9229 - val_loss: 0.3942 - val_acc: 0.8389\n",
            "\n",
            "Epoch 00017: val_loss did not improve from 0.38071\n",
            "Epoch 18/32\n",
            "49/48 [==============================] - 21s 423ms/step - loss: 0.2315 - acc: 0.9126 - val_loss: 0.3792 - val_acc: 0.8722\n",
            "\n",
            "Epoch 00018: val_loss improved from 0.38071 to 0.37917, saving model to /content/Ciencia_Datos/EjemploCNN/model_jupyter.h5\n",
            "Epoch 19/32\n",
            "49/48 [==============================] - 21s 425ms/step - loss: 0.2080 - acc: 0.9292 - val_loss: 0.3123 - val_acc: 0.8833\n",
            "\n",
            "Epoch 00019: val_loss improved from 0.37917 to 0.31226, saving model to /content/Ciencia_Datos/EjemploCNN/model_jupyter.h5\n",
            "Epoch 20/32\n",
            "49/48 [==============================] - 21s 426ms/step - loss: 0.1882 - acc: 0.9273 - val_loss: 0.3540 - val_acc: 0.8806\n",
            "\n",
            "Epoch 00020: val_loss did not improve from 0.31226\n",
            "Epoch 21/32\n",
            "49/48 [==============================] - 21s 425ms/step - loss: 0.1633 - acc: 0.9356 - val_loss: 0.3546 - val_acc: 0.8750\n",
            "\n",
            "Epoch 00021: val_loss did not improve from 0.31226\n",
            "Epoch 22/32\n",
            "49/48 [==============================] - 21s 425ms/step - loss: 0.1516 - acc: 0.9470 - val_loss: 0.3920 - val_acc: 0.8667\n",
            "\n",
            "Epoch 00022: val_loss did not improve from 0.31226\n",
            "Epoch 23/32\n",
            "49/48 [==============================] - 21s 427ms/step - loss: 0.1303 - acc: 0.9522 - val_loss: 0.3722 - val_acc: 0.8583\n",
            "\n",
            "Epoch 00023: val_loss did not improve from 0.31226\n",
            "Epoch 24/32\n",
            "49/48 [==============================] - 21s 423ms/step - loss: 0.1617 - acc: 0.9394 - val_loss: 0.3749 - val_acc: 0.8722\n",
            "\n",
            "Epoch 00024: val_loss did not improve from 0.31226\n",
            "Epoch 00024: early stopping\n"
          ],
          "name": "stdout"
        }
      ]
    },
    {
      "cell_type": "code",
      "metadata": {
        "id": "QjwpnEu9Ab2P",
        "colab_type": "code",
        "outputId": "4f38debe-63c5-45e7-cb6e-2dd6ffed35ba",
        "colab": {
          "base_uri": "https://localhost:8080/",
          "height": 295
        }
      },
      "source": [
        "# Gráfica de la métrica de precisión\n",
        "plt.plot(history.history['acc'])\n",
        "plt.plot(history.history['val_acc'])\n",
        "plt.title('Accuracy Modelo')\n",
        "plt.ylabel('Accuracy')\n",
        "plt.xlabel('Iteración')\n",
        "plt.legend(['entrenamiento', 'validación'], loc='lower right')\n",
        "plt.show()\n"
      ],
      "execution_count": 37,
      "outputs": [
        {
          "output_type": "display_data",
          "data": {
            "image/png": "[encoded data removed]",
            "text/plain": [
              "<Figure size 432x288 with 1 Axes>"
            ]
          },
          "metadata": {
            "tags": []
          }
        }
      ]
    },
    {
      "cell_type": "code",
      "metadata": {
        "id": "8ME97FCCAb2V",
        "colab_type": "code",
        "outputId": "c2e72b80-1c1b-47aa-846b-6351fc6503fb",
        "colab": {
          "base_uri": "https://localhost:8080/",
          "height": 295
        }
      },
      "source": [
        "# Gráfica de la función de pérdida\n",
        "plt.plot(history.history['loss'])\n",
        "plt.plot(history.history['val_loss'])\n",
        "plt.title('Función de Pérdida Modelo')\n",
        "plt.ylabel('Pérdida')\n",
        "plt.xlabel('Iteración')\n",
        "plt.legend(['entrenamiento', 'validación'], loc='upper right')\n",
        "plt.show()"
      ],
      "execution_count": 39,
      "outputs": [
        {
          "output_type": "display_data",
          "data": {
            "image/png": "[encoded data removed]",
            "text/plain": [
              "<Figure size 432x288 with 1 Axes>"
            ]
          },
          "metadata": {
            "tags": []
          }
        }
      ]
    },
    {
      "cell_type": "code",
      "metadata": {
        "id": "RZf4eEZcAb2b",
        "colab_type": "code",
        "colab": {}
      },
      "source": [
        "# Load Model\n",
        "model_loaded = load_model(\"/content/Ciencia_Datos/EjemploCNN/model_jupyter.h5\")"
      ],
      "execution_count": 0,
      "outputs": []
    },
    {
      "cell_type": "code",
      "metadata": {
        "id": "Pf9frwyLAb2e",
        "colab_type": "code",
        "outputId": "8f2f2f6f-d766-4dee-b75f-ea65f1af32af",
        "colab": {
          "base_uri": "https://localhost:8080/",
          "height": 54
        }
      },
      "source": [
        "step_size_test=test_generator.n/test_generator.batch_size\n",
        "result_evaluate =  model_loaded.evaluate_generator(test_generator,step_size_test,verbose=1)\n",
        "print(result_evaluate)"
      ],
      "execution_count": 42,
      "outputs": [
        {
          "output_type": "stream",
          "text": [
            "300/300 [==============================] - 2s 7ms/step\n",
            "[0.3330663373866153, 0.8833333333333333]\n"
          ],
          "name": "stdout"
        }
      ]
    },
    {
      "cell_type": "code",
      "metadata": {
        "scrolled": false,
        "id": "FplpaOVkAb2i",
        "colab_type": "code",
        "outputId": "32f213d6-ec8a-4858-fc51-45c4ced2332e",
        "colab": {
          "base_uri": "https://localhost:8080/",
          "height": 333
        }
      },
      "source": [
        "y_pred_prob =  model_loaded.predict_generator(test_generator, steps= step_size_test)\n",
        "y_pred_classes = np.argmax(y_pred_prob, axis=1)\n",
        "test_labels_one_hot = to_categorical(test_generator.classes)\n",
        "fpr = dict()\n",
        "tpr = dict()\n",
        "roc_auc = dict()\n",
        "for i in range(num_classes):\n",
        "    fpr[i], tpr[i], _ = roc_curve(test_labels_one_hot[:, i], y_pred_prob[:, i])\n",
        "    roc_auc[i] = auc(fpr[i], tpr[i])\n",
        "fpr[\"micro\"], tpr[\"micro\"], _ = roc_curve(test_labels_one_hot.ravel(), y_pred_prob.ravel())\n",
        "roc_auc[\"micro\"] = auc(fpr[\"micro\"], tpr[\"micro\"])\n",
        "all_fpr = np.unique(np.concatenate([fpr[i] for i in range(num_classes)]))\n",
        "\n",
        "# Then interpolate all ROC curves at this points\n",
        "mean_tpr = np.zeros_like(all_fpr)\n",
        "for i in range(num_classes):\n",
        "    mean_tpr += interp(all_fpr, fpr[i], tpr[i])\n",
        "\n",
        "# Finally average it and compute AUC\n",
        "mean_tpr /= num_classes\n",
        "\n",
        "fpr[\"macro\"] = all_fpr\n",
        "tpr[\"macro\"] = mean_tpr\n",
        "roc_auc[\"macro\"] = auc(fpr[\"macro\"], tpr[\"macro\"])\n",
        "\n",
        "# Plot all ROC curves\n",
        "plt.figure(1)\n",
        "plt.plot((fpr[\"micro\"]), (tpr[\"micro\"]),\n",
        "         label='micro-promedio curva de ROC (área = {0:0.2f})'\n",
        "               ''.format(roc_auc[\"micro\"]),\n",
        "         color='deeppink', linestyle=':', linewidth=4)\n",
        "\n",
        "\n",
        "plt.plot(fpr[\"macro\"], tpr[\"macro\"],\n",
        "         label='macro-promedio curva de ROC (área = {0:0.2f})'\n",
        "               ''.format(roc_auc[\"macro\"]),\n",
        "         color='navy', linestyle=':', linewidth=4)\n",
        "\n",
        "colors = cycle(['aqua', 'darkorange', 'cornflowerblue'])\n",
        "for i, color in zip(range(num_classes), colors):\n",
        "    plt.plot(fpr[i], tpr[i], color=color, lw=2,\n",
        "             label='Curvas de ROC de la clase {0} (área = {1:0.2f})'\n",
        "             ''.format(i, roc_auc[i]))\n",
        "\n",
        "plt.plot([0, 1], [0, 1], 'k--', lw=2)\n",
        "plt.xlim([0.0, 1.0])\n",
        "plt.ylim([0.0, 1.05])\n",
        "plt.xlabel('Tasa de Falsos Positivos')\n",
        "plt.ylabel('Tasa de Verdaderos Positivos')\n",
        "plt.title('Curvas de ROC')\n",
        "plt.legend(loc=\"lower right\")\n",
        "plt.show()"
      ],
      "execution_count": 43,
      "outputs": [
        {
          "output_type": "stream",
          "text": [
            "/usr/local/lib/python3.6/dist-packages/ipykernel_launcher.py:17: DeprecationWarning: scipy.interp is deprecated and will be removed in SciPy 2.0.0, use numpy.interp instead\n"
          ],
          "name": "stderr"
        },
        {
          "output_type": "display_data",
          "data": {
            "image/png": "[encoded data removed]",
            "text/plain": [
              "<Figure size 432x288 with 1 Axes>"
            ]
          },
          "metadata": {
            "tags": []
          }
        }
      ]
    },
    {
      "cell_type": "code",
      "metadata": {
        "id": "yubfvkdxAb2l",
        "colab_type": "code",
        "outputId": "14d716f9-0648-4621-f2cf-88f4595952ed",
        "colab": {
          "base_uri": "https://localhost:8080/",
          "height": 35
        }
      },
      "source": [
        "# accuracy: (tp + tn) / (p + n)\n",
        "accuracy = accuracy_score(test_generator.classes, y_pred_classes)\n",
        "print('Accuracy: %f' % accuracy)\n"
      ],
      "execution_count": 44,
      "outputs": [
        {
          "output_type": "stream",
          "text": [
            "Accuracy: 0.883333\n"
          ],
          "name": "stdout"
        }
      ]
    },
    {
      "cell_type": "code",
      "metadata": {
        "id": "OKYEZE72Ab2p",
        "colab_type": "code",
        "outputId": "ae7e84cb-2cef-4966-89d1-39d590cb7d99",
        "colab": {
          "base_uri": "https://localhost:8080/",
          "height": 35
        }
      },
      "source": [
        "# precision tp / (tp + fp)\n",
        "precision = precision_score(test_generator.classes, y_pred_classes, average = 'macro')\n",
        "print('Precision:', precision)\n"
      ],
      "execution_count": 45,
      "outputs": [
        {
          "output_type": "stream",
          "text": [
            "Precision: 0.8845575982368435\n"
          ],
          "name": "stdout"
        }
      ]
    },
    {
      "cell_type": "code",
      "metadata": {
        "id": "RJMf8OAUAb2t",
        "colab_type": "code",
        "outputId": "1717e01d-4bc0-4973-b76c-f69c1fd91e9c",
        "colab": {
          "base_uri": "https://localhost:8080/",
          "height": 35
        }
      },
      "source": [
        "# recall: tp / (tp + fn)\n",
        "recall = recall_score(test_generator.classes, y_pred_classes, average = 'macro')\n",
        "print('Recall: %f' % recall)"
      ],
      "execution_count": 46,
      "outputs": [
        {
          "output_type": "stream",
          "text": [
            "Recall: 0.883333\n"
          ],
          "name": "stdout"
        }
      ]
    },
    {
      "cell_type": "code",
      "metadata": {
        "id": "PbLU2alKAb2x",
        "colab_type": "code",
        "outputId": "de0d6179-bc91-4abe-c265-42c0920918aa",
        "colab": {
          "base_uri": "https://localhost:8080/",
          "height": 35
        }
      },
      "source": [
        "# f1: 2 tp / (2 tp + fp + fn)\n",
        "f1 = f1_score(test_generator.classes, y_pred_classes, average = 'macro')\n",
        "print('F1 score: %f' % f1)"
      ],
      "execution_count": 47,
      "outputs": [
        {
          "output_type": "stream",
          "text": [
            "F1 score: 0.882776\n"
          ],
          "name": "stdout"
        }
      ]
    },
    {
      "cell_type": "code",
      "metadata": {
        "id": "rs3gBLe-Ab20",
        "colab_type": "code",
        "outputId": "6ebf663b-5674-4fe2-c81e-bc3c465baf28",
        "colab": {
          "base_uri": "https://localhost:8080/",
          "height": 35
        }
      },
      "source": [
        "# kappa\n",
        "kappa = cohen_kappa_score(test_generator.classes, y_pred_classes)\n",
        "print('Cohens kappa: %f' % kappa)"
      ],
      "execution_count": 48,
      "outputs": [
        {
          "output_type": "stream",
          "text": [
            "Cohens kappa: 0.825000\n"
          ],
          "name": "stdout"
        }
      ]
    },
    {
      "cell_type": "code",
      "metadata": {
        "id": "gepLG3pUAb23",
        "colab_type": "code",
        "outputId": "889e8ba5-c28d-4aeb-c91f-6f55655a7842",
        "colab": {
          "base_uri": "https://localhost:8080/",
          "height": 72
        }
      },
      "source": [
        "# confusion matrix\n",
        "matrix = confusion_matrix(test_generator.classes, y_pred_classes)\n",
        "print(matrix)"
      ],
      "execution_count": 49,
      "outputs": [
        {
          "output_type": "stream",
          "text": [
            "[[94  2  4]\n",
            " [ 7 89  4]\n",
            " [ 5 13 82]]\n"
          ],
          "name": "stdout"
        }
      ]
    },
    {
      "cell_type": "code",
      "metadata": {
        "id": "7i78_XyMAb27",
        "colab_type": "code",
        "outputId": "89682b2a-bd34-4df9-ac83-183db48022c8",
        "colab": {
          "base_uri": "https://localhost:8080/",
          "height": 455
        }
      },
      "source": [
        "cmap = plt.get_cmap('Blues')\n",
        "plt.figure(figsize=(8, 6))\n",
        "plt.imshow(matrix, interpolation='nearest',cmap=cmap)\n",
        "plt.title(\"Matriz de Confusión\")\n",
        "plt.colorbar()\n",
        "target_names = ['avión', 'barco', 'estadio']\n",
        "\n",
        "if target_names is not None:\n",
        "    tick_marks = np.arange(len(target_names))\n",
        "    plt.xticks(tick_marks, target_names, rotation=45)\n",
        "    plt.yticks(tick_marks, target_names)\n",
        "\n",
        "\n",
        "\n",
        "thresh = matrix.max() / 1.5\n",
        "matrix.max() / 2\n",
        "for i, j in itertools.product(range(matrix.shape[0]), range(matrix.shape[1])):\n",
        "        plt.text(j, i, \"{:,}\".format(matrix[i, j]),horizontalalignment=\"center\",color=\"white\" if matrix[i, j] > thresh else \"black\")\n",
        "\n",
        "plt.tight_layout()\n",
        "plt.ylabel('Etiqueta Verdadera')\n",
        "plt.xlabel('Etiqueta predicha ')\n",
        "plt.show()"
      ],
      "execution_count": 50,
      "outputs": [
        {
          "output_type": "display_data",
          "data": {
            "image/png": "[encoded data removed]",
            "text/plain": [
              "<Figure size 576x432 with 2 Axes>"
            ]
          },
          "metadata": {
            "tags": []
          }
        }
      ]
    },
    {
      "cell_type": "code",
      "metadata": {
        "id": "-edKqxwsAb2-",
        "colab_type": "code",
        "colab": {}
      },
      "source": [
        ""
      ],
      "execution_count": 0,
      "outputs": []
    }
  ]
}