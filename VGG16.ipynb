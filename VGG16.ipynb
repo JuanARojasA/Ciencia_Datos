{
  "nbformat": 4,
  "nbformat_minor": 0,
  "metadata": {
    "colab": {
      "name": "VGG16.ipynb",
      "provenance": [],
      "collapsed_sections": [],
      "toc_visible": true,
      "machine_shape": "hm",
      "authorship_tag": "ABX9TyMnNsW2GfCC8vBpIc5myNqN",
      "include_colab_link": true
    },
    "kernelspec": {
      "name": "python3",
      "display_name": "Python 3"
    },
    "accelerator": "GPU"
  },
  "cells": [
    {
      "cell_type": "markdown",
      "metadata": {
        "id": "view-in-github",
        "colab_type": "text"
      },
      "source": [
        "<a href=\"https://colab.research.google.com/github/JuanARojasA/Ciencia_Datos/blob/master/VGG16.ipynb\" target=\"_parent\"><img src=\"https://colab.research.google.com/assets/colab-badge.svg\" alt=\"Open In Colab\"/></a>"
      ]
    },
    {
      "cell_type": "markdown",
      "metadata": {
        "id": "pkuzBCJQO5ti",
        "colab_type": "text"
      },
      "source": [
        "Para realizar un entrenamiento rápido del proyecto, desde Google Cola, se recomienda asignar el acelerador de Hardware por GPU\n",
        "Editar->Configuración de Notebook->Acelerador de Hardware->GPU"
      ]
    },
    {
      "cell_type": "markdown",
      "metadata": {
        "id": "IiK95uEiGNew",
        "colab_type": "text"
      },
      "source": [
        "Se accede al GDrive para importar desde este el repositorio en GitHub en donde se encuentran las imagenes de entrenamiento, validación y prueba"
      ]
    },
    {
      "cell_type": "code",
      "metadata": {
        "id": "t9m2tm_jGxnE",
        "colab_type": "code",
        "outputId": "a5fb45a6-c37c-40c2-e61b-544a1cc9399d",
        "colab": {
          "base_uri": "https://localhost:8080/",
          "height": 92
        }
      },
      "source": [
        "from google.colab import drive\n",
        "drive.mount('/content/drive')\n",
        "\n",
        "# Esta linea se usa para importar el repositorio de Github\n",
        "!git clone https://github.com/JuanARojasA/Ciencia_Datos.git\n",
        "!ls"
      ],
      "execution_count": 15,
      "outputs": [
        {
          "output_type": "stream",
          "text": [
            "Drive already mounted at /content/drive; to attempt to forcibly remount, call drive.mount(\"/content/drive\", force_remount=True).\n",
            "fatal: destination path 'Ciencia_Datos' already exists and is not an empty directory.\n",
            "Ciencia_Datos  drive  sample_data\n"
          ],
          "name": "stdout"
        }
      ]
    },
    {
      "cell_type": "code",
      "metadata": {
        "id": "R40pCDKhEG76",
        "colab_type": "code",
        "colab": {}
      },
      "source": [
        "from tensorflow.keras.applications.vgg16 import VGG16\n",
        "from keras.preprocessing.image import ImageDataGenerator\n",
        "from tensorflow.keras.layers import Input, Flatten, Dense\n",
        "from tensorflow.keras.models import load_model\n",
        "from keras.models import Model\n",
        "import tensorflow as tf\n",
        "from tensorflow.keras.callbacks import EarlyStopping, ModelCheckpoint\n",
        "from keras.utils import to_categorical\n",
        "import numpy as np\n",
        "\n",
        "\n",
        "# Librería para graficar \n",
        "import matplotlib.pyplot as plt\n",
        "from scipy import interp\n",
        "from itertools import cycle\n",
        "import itertools\n",
        "\n",
        "# Librerías para obtener métricas\n",
        "from sklearn.metrics import accuracy_score\n",
        "from sklearn.metrics import precision_score\n",
        "from sklearn.metrics import recall_score\n",
        "from sklearn.metrics import f1_score\n",
        "from sklearn.metrics import cohen_kappa_score\n",
        "from sklearn.metrics import roc_auc_score\n",
        "from sklearn.metrics import confusion_matrix\n",
        "from sklearn.metrics import roc_curve, auc"
      ],
      "execution_count": 0,
      "outputs": []
    },
    {
      "cell_type": "markdown",
      "metadata": {
        "id": "pSxV0IDNGbHY",
        "colab_type": "text"
      },
      "source": [
        "Se crea un string con la ruta de acceso a cada conjunto de datos del dataset"
      ]
    },
    {
      "cell_type": "code",
      "metadata": {
        "id": "SMZQowmKHNZq",
        "colab_type": "code",
        "colab": {}
      },
      "source": [
        "ruta_dataset_entrenamiento = \"/content/Ciencia_Datos/EjemploCNN/training\"\n",
        "ruta_dataset_prueba = \"/content/Ciencia_Datos/EjemploCNN/test\"\n",
        "ruta_dataset_validacion = \"/content/Ciencia_Datos/EjemploCNN/validation\"\n",
        "num_classes = 3"
      ],
      "execution_count": 0,
      "outputs": []
    },
    {
      "cell_type": "code",
      "metadata": {
        "id": "zRSrXqpXHXWc",
        "colab_type": "code",
        "colab": {}
      },
      "source": [
        "train_datagen = ImageDataGenerator(rescale=1./255)\n",
        "test_datagen = ImageDataGenerator(rescale=1./255)\n",
        "validation_datagen = ImageDataGenerator(rescale=1./255)"
      ],
      "execution_count": 0,
      "outputs": []
    },
    {
      "cell_type": "code",
      "metadata": {
        "id": "2XTRFM7VHkoN",
        "colab_type": "code",
        "outputId": "cf639130-e985-4e9d-fe24-caa300d1d418",
        "colab": {
          "base_uri": "https://localhost:8080/",
          "height": 72
        }
      },
      "source": [
        "train_generator = train_datagen.flow_from_directory(ruta_dataset_entrenamiento,target_size=(224,224),color_mode='rgb',batch_size=32,class_mode='categorical',shuffle=True)\n",
        "test_generator = test_datagen.flow_from_directory(ruta_dataset_prueba,target_size=(224,224),color_mode='rgb',batch_size=1,class_mode='categorical',shuffle=False)\n",
        "validation_generator = validation_datagen.flow_from_directory(ruta_dataset_validacion,target_size=(224,224),color_mode='rgb',batch_size=32,class_mode='categorical',shuffle=True)"
      ],
      "execution_count": 19,
      "outputs": [
        {
          "output_type": "stream",
          "text": [
            "Found 1540 images belonging to 3 classes.\n",
            "Found 300 images belonging to 3 classes.\n",
            "Found 360 images belonging to 3 classes.\n"
          ],
          "name": "stdout"
        }
      ]
    },
    {
      "cell_type": "markdown",
      "metadata": {
        "id": "6NYqWABjGCQ4",
        "colab_type": "text"
      },
      "source": [
        "Se importa la CNN pre-entrenada VGG16 con los pesos del entrenamiento usado con el Dataset 'imagenet' el cual posee 1000 clases de clasificación."
      ]
    },
    {
      "cell_type": "code",
      "metadata": {
        "id": "rHbkdxgGFYXg",
        "colab_type": "code",
        "outputId": "f46e98ae-7c51-4dad-9873-987f36da3881",
        "colab": {
          "base_uri": "https://localhost:8080/",
          "height": 1000
        }
      },
      "source": [
        "vgg16 = VGG16(weights='imagenet')\n",
        "vgg16.summary()"
      ],
      "execution_count": 20,
      "outputs": [
        {
          "output_type": "stream",
          "text": [
            "Model: \"vgg16\"\n",
            "_________________________________________________________________\n",
            "Layer (type)                 Output Shape              Param #   \n",
            "=================================================================\n",
            "input_2 (InputLayer)         [(None, 224, 224, 3)]     0         \n",
            "_________________________________________________________________\n",
            "block1_conv1 (Conv2D)        (None, 224, 224, 64)      1792      \n",
            "_________________________________________________________________\n",
            "block1_conv2 (Conv2D)        (None, 224, 224, 64)      36928     \n",
            "_________________________________________________________________\n",
            "block1_pool (MaxPooling2D)   (None, 112, 112, 64)      0         \n",
            "_________________________________________________________________\n",
            "block2_conv1 (Conv2D)        (None, 112, 112, 128)     73856     \n",
            "_________________________________________________________________\n",
            "block2_conv2 (Conv2D)        (None, 112, 112, 128)     147584    \n",
            "_________________________________________________________________\n",
            "block2_pool (MaxPooling2D)   (None, 56, 56, 128)       0         \n",
            "_________________________________________________________________\n",
            "block3_conv1 (Conv2D)        (None, 56, 56, 256)       295168    \n",
            "_________________________________________________________________\n",
            "block3_conv2 (Conv2D)        (None, 56, 56, 256)       590080    \n",
            "_________________________________________________________________\n",
            "block3_conv3 (Conv2D)        (None, 56, 56, 256)       590080    \n",
            "_________________________________________________________________\n",
            "block3_pool (MaxPooling2D)   (None, 28, 28, 256)       0         \n",
            "_________________________________________________________________\n",
            "block4_conv1 (Conv2D)        (None, 28, 28, 512)       1180160   \n",
            "_________________________________________________________________\n",
            "block4_conv2 (Conv2D)        (None, 28, 28, 512)       2359808   \n",
            "_________________________________________________________________\n",
            "block4_conv3 (Conv2D)        (None, 28, 28, 512)       2359808   \n",
            "_________________________________________________________________\n",
            "block4_pool (MaxPooling2D)   (None, 14, 14, 512)       0         \n",
            "_________________________________________________________________\n",
            "block5_conv1 (Conv2D)        (None, 14, 14, 512)       2359808   \n",
            "_________________________________________________________________\n",
            "block5_conv2 (Conv2D)        (None, 14, 14, 512)       2359808   \n",
            "_________________________________________________________________\n",
            "block5_conv3 (Conv2D)        (None, 14, 14, 512)       2359808   \n",
            "_________________________________________________________________\n",
            "block5_pool (MaxPooling2D)   (None, 7, 7, 512)         0         \n",
            "_________________________________________________________________\n",
            "flatten (Flatten)            (None, 25088)             0         \n",
            "_________________________________________________________________\n",
            "fc1 (Dense)                  (None, 4096)              102764544 \n",
            "_________________________________________________________________\n",
            "fc2 (Dense)                  (None, 4096)              16781312  \n",
            "_________________________________________________________________\n",
            "predictions (Dense)          (None, 1000)              4097000   \n",
            "=================================================================\n",
            "Total params: 138,357,544\n",
            "Trainable params: 138,357,544\n",
            "Non-trainable params: 0\n",
            "_________________________________________________________________\n"
          ],
          "name": "stdout"
        }
      ]
    },
    {
      "cell_type": "markdown",
      "metadata": {
        "id": "E4Yk2jPDFh6a",
        "colab_type": "text"
      },
      "source": [
        "Debido a que la salida de la CNN VGG16 posee 1000 clases, es necesario modificar esto, para que funcione unicamente con 3 salidas, ya que al realizar el proceso de entrenamiento, prueba y validación, se generan inconvenientes al intentar pasar 3 clases por una salida con 1000 clases."
      ]
    },
    {
      "cell_type": "code",
      "metadata": {
        "id": "_v4uvEddGB2D",
        "colab_type": "code",
        "colab": {
          "base_uri": "https://localhost:8080/",
          "height": 1000
        },
        "outputId": "4e9228f8-c067-44b2-823c-56905f31a566"
      },
      "source": [
        "x = Dense(3, activation='softmax', name='predictions')(vgg16.layers[-2].output)\n",
        "vgg16Mod = tf.compat.v1.keras.Model(vgg16.input,x)\n",
        "vgg16Mod.summary()"
      ],
      "execution_count": 21,
      "outputs": [
        {
          "output_type": "stream",
          "text": [
            "Model: \"model_2\"\n",
            "_________________________________________________________________\n",
            "Layer (type)                 Output Shape              Param #   \n",
            "=================================================================\n",
            "input_2 (InputLayer)         [(None, 224, 224, 3)]     0         \n",
            "_________________________________________________________________\n",
            "block1_conv1 (Conv2D)        (None, 224, 224, 64)      1792      \n",
            "_________________________________________________________________\n",
            "block1_conv2 (Conv2D)        (None, 224, 224, 64)      36928     \n",
            "_________________________________________________________________\n",
            "block1_pool (MaxPooling2D)   (None, 112, 112, 64)      0         \n",
            "_________________________________________________________________\n",
            "block2_conv1 (Conv2D)        (None, 112, 112, 128)     73856     \n",
            "_________________________________________________________________\n",
            "block2_conv2 (Conv2D)        (None, 112, 112, 128)     147584    \n",
            "_________________________________________________________________\n",
            "block2_pool (MaxPooling2D)   (None, 56, 56, 128)       0         \n",
            "_________________________________________________________________\n",
            "block3_conv1 (Conv2D)        (None, 56, 56, 256)       295168    \n",
            "_________________________________________________________________\n",
            "block3_conv2 (Conv2D)        (None, 56, 56, 256)       590080    \n",
            "_________________________________________________________________\n",
            "block3_conv3 (Conv2D)        (None, 56, 56, 256)       590080    \n",
            "_________________________________________________________________\n",
            "block3_pool (MaxPooling2D)   (None, 28, 28, 256)       0         \n",
            "_________________________________________________________________\n",
            "block4_conv1 (Conv2D)        (None, 28, 28, 512)       1180160   \n",
            "_________________________________________________________________\n",
            "block4_conv2 (Conv2D)        (None, 28, 28, 512)       2359808   \n",
            "_________________________________________________________________\n",
            "block4_conv3 (Conv2D)        (None, 28, 28, 512)       2359808   \n",
            "_________________________________________________________________\n",
            "block4_pool (MaxPooling2D)   (None, 14, 14, 512)       0         \n",
            "_________________________________________________________________\n",
            "block5_conv1 (Conv2D)        (None, 14, 14, 512)       2359808   \n",
            "_________________________________________________________________\n",
            "block5_conv2 (Conv2D)        (None, 14, 14, 512)       2359808   \n",
            "_________________________________________________________________\n",
            "block5_conv3 (Conv2D)        (None, 14, 14, 512)       2359808   \n",
            "_________________________________________________________________\n",
            "block5_pool (MaxPooling2D)   (None, 7, 7, 512)         0         \n",
            "_________________________________________________________________\n",
            "flatten (Flatten)            (None, 25088)             0         \n",
            "_________________________________________________________________\n",
            "fc1 (Dense)                  (None, 4096)              102764544 \n",
            "_________________________________________________________________\n",
            "fc2 (Dense)                  (None, 4096)              16781312  \n",
            "_________________________________________________________________\n",
            "predictions (Dense)          (None, 3)                 12291     \n",
            "=================================================================\n",
            "Total params: 134,272,835\n",
            "Trainable params: 134,272,835\n",
            "Non-trainable params: 0\n",
            "_________________________________________________________________\n"
          ],
          "name": "stdout"
        }
      ]
    },
    {
      "cell_type": "markdown",
      "metadata": {
        "id": "R9iWQ5abG0f_",
        "colab_type": "text"
      },
      "source": [
        "Se añade la capa de salida, especificando la cantidad de clases que posee el dataset utilizado, en este caso 3."
      ]
    },
    {
      "cell_type": "code",
      "metadata": {
        "id": "q5v5hZ2_G0zs",
        "colab_type": "code",
        "colab": {}
      },
      "source": [
        "vgg16Mod.compile(loss='categorical_crossentropy',optimizer='adam',metrics=['accuracy'])"
      ],
      "execution_count": 0,
      "outputs": []
    },
    {
      "cell_type": "code",
      "metadata": {
        "id": "mvP1HDClUBtt",
        "colab_type": "code",
        "outputId": "c5918ce4-dde6-4890-8fbe-66464c835417",
        "colab": {
          "base_uri": "https://localhost:8080/",
          "height": 1000
        }
      },
      "source": [
        "callbacks = [EarlyStopping(monitor='val_loss', mode='min', verbose=1,patience=5),\n",
        "             ModelCheckpoint(filepath=\"/content/Ciencia_Datos/EjemploCNN/model_jupyter.h5\", \n",
        "             monitor='val_loss', save_best_only=True, verbose=1,mode='min')]\n",
        "\n",
        "\n",
        "step_size_train=train_generator.n/train_generator.batch_size\n",
        "step_size_validation=validation_generator.n/validation_generator.batch_size\n",
        "history = vgg16Mod.fit_generator(generator=train_generator,\n",
        "                   steps_per_epoch=step_size_train,\n",
        "                   validation_data = validation_generator,\n",
        "                   validation_steps = step_size_validation,\n",
        "                   epochs=32, callbacks=callbacks)"
      ],
      "execution_count": 23,
      "outputs": [
        {
          "output_type": "stream",
          "text": [
            "Epoch 1/32\n",
            "49/48 [==============================] - ETA: 0s - loss: 9.9811 - accuracy: 0.3695 \n",
            "Epoch 00001: val_loss improved from inf to 1.01492, saving model to /content/Ciencia_Datos/EjemploCNN/model_jupyter.h5\n",
            "49/48 [==============================] - 17s 355ms/step - loss: 9.9811 - accuracy: 0.3695 - val_loss: 1.0149 - val_accuracy: 0.3889\n",
            "Epoch 2/32\n",
            "49/48 [==============================] - ETA: 0s - loss: 0.9296 - accuracy: 0.5175\n",
            "Epoch 00002: val_loss improved from 1.01492 to 1.01130, saving model to /content/Ciencia_Datos/EjemploCNN/model_jupyter.h5\n",
            "49/48 [==============================] - 42s 864ms/step - loss: 0.9296 - accuracy: 0.5175 - val_loss: 1.0113 - val_accuracy: 0.4639\n",
            "Epoch 3/32\n",
            "49/48 [==============================] - ETA: 0s - loss: 0.8440 - accuracy: 0.5682\n",
            "Epoch 00003: val_loss improved from 1.01130 to 0.76048, saving model to /content/Ciencia_Datos/EjemploCNN/model_jupyter.h5\n",
            "49/48 [==============================] - 39s 797ms/step - loss: 0.8440 - accuracy: 0.5682 - val_loss: 0.7605 - val_accuracy: 0.6528\n",
            "Epoch 4/32\n",
            "49/48 [==============================] - ETA: 0s - loss: 0.7857 - accuracy: 0.6065\n",
            "Epoch 00004: val_loss did not improve from 0.76048\n",
            "49/48 [==============================] - 12s 243ms/step - loss: 0.7857 - accuracy: 0.6065 - val_loss: 1.3147 - val_accuracy: 0.4250\n",
            "Epoch 5/32\n",
            "49/48 [==============================] - ETA: 0s - loss: 1.0837 - accuracy: 0.5766\n",
            "Epoch 00005: val_loss did not improve from 0.76048\n",
            "49/48 [==============================] - 12s 243ms/step - loss: 1.0837 - accuracy: 0.5766 - val_loss: 6.4573 - val_accuracy: 0.3306\n",
            "Epoch 6/32\n",
            "49/48 [==============================] - ETA: 0s - loss: 1.4100 - accuracy: 0.5286\n",
            "Epoch 00006: val_loss improved from 0.76048 to 0.54861, saving model to /content/Ciencia_Datos/EjemploCNN/model_jupyter.h5\n",
            "49/48 [==============================] - 17s 349ms/step - loss: 1.4100 - accuracy: 0.5286 - val_loss: 0.5486 - val_accuracy: 0.7889\n",
            "Epoch 7/32\n",
            "49/48 [==============================] - ETA: 0s - loss: 0.7678 - accuracy: 0.6571\n",
            "Epoch 00007: val_loss did not improve from 0.54861\n",
            "49/48 [==============================] - 12s 243ms/step - loss: 0.7678 - accuracy: 0.6571 - val_loss: 0.6421 - val_accuracy: 0.7139\n",
            "Epoch 8/32\n",
            "49/48 [==============================] - ETA: 0s - loss: 0.6033 - accuracy: 0.7468\n",
            "Epoch 00008: val_loss did not improve from 0.54861\n",
            "49/48 [==============================] - 12s 243ms/step - loss: 0.6033 - accuracy: 0.7468 - val_loss: 0.5536 - val_accuracy: 0.8444\n",
            "Epoch 9/32\n",
            "49/48 [==============================] - ETA: 0s - loss: 0.6494 - accuracy: 0.7312\n",
            "Epoch 00009: val_loss improved from 0.54861 to 0.50658, saving model to /content/Ciencia_Datos/EjemploCNN/model_jupyter.h5\n",
            "49/48 [==============================] - 17s 349ms/step - loss: 0.6494 - accuracy: 0.7312 - val_loss: 0.5066 - val_accuracy: 0.7889\n",
            "Epoch 10/32\n",
            "49/48 [==============================] - ETA: 0s - loss: 0.5072 - accuracy: 0.8097\n",
            "Epoch 00010: val_loss did not improve from 0.50658\n",
            "49/48 [==============================] - 12s 243ms/step - loss: 0.5072 - accuracy: 0.8097 - val_loss: 1.8929 - val_accuracy: 0.3278\n",
            "Epoch 11/32\n",
            "49/48 [==============================] - ETA: 0s - loss: 0.7809 - accuracy: 0.6545\n",
            "Epoch 00011: val_loss improved from 0.50658 to 0.46227, saving model to /content/Ciencia_Datos/EjemploCNN/model_jupyter.h5\n",
            "49/48 [==============================] - 32s 644ms/step - loss: 0.7809 - accuracy: 0.6545 - val_loss: 0.4623 - val_accuracy: 0.8417\n",
            "Epoch 12/32\n",
            "49/48 [==============================] - ETA: 0s - loss: 0.5110 - accuracy: 0.8123\n",
            "Epoch 00012: val_loss did not improve from 0.46227\n",
            "49/48 [==============================] - 12s 242ms/step - loss: 0.5110 - accuracy: 0.8123 - val_loss: 0.6596 - val_accuracy: 0.7111\n",
            "Epoch 13/32\n",
            "49/48 [==============================] - ETA: 0s - loss: 0.4752 - accuracy: 0.8279\n",
            "Epoch 00013: val_loss did not improve from 0.46227\n",
            "49/48 [==============================] - 12s 243ms/step - loss: 0.4752 - accuracy: 0.8279 - val_loss: 0.6954 - val_accuracy: 0.7028\n",
            "Epoch 14/32\n",
            "49/48 [==============================] - ETA: 0s - loss: 0.4231 - accuracy: 0.8435\n",
            "Epoch 00014: val_loss did not improve from 0.46227\n",
            "49/48 [==============================] - 12s 243ms/step - loss: 0.4231 - accuracy: 0.8435 - val_loss: 0.6047 - val_accuracy: 0.7917\n",
            "Epoch 15/32\n",
            "49/48 [==============================] - ETA: 0s - loss: 0.6120 - accuracy: 0.7753\n",
            "Epoch 00015: val_loss did not improve from 0.46227\n",
            "49/48 [==============================] - 12s 243ms/step - loss: 0.6120 - accuracy: 0.7753 - val_loss: 0.5099 - val_accuracy: 0.7778\n",
            "Epoch 16/32\n",
            "49/48 [==============================] - ETA: 0s - loss: 0.4714 - accuracy: 0.8325\n",
            "Epoch 00016: val_loss did not improve from 0.46227\n",
            "49/48 [==============================] - 12s 243ms/step - loss: 0.4714 - accuracy: 0.8325 - val_loss: 0.4938 - val_accuracy: 0.8194\n",
            "Epoch 00016: early stopping\n"
          ],
          "name": "stdout"
        }
      ]
    },
    {
      "cell_type": "code",
      "metadata": {
        "id": "uVKpmqV6pE8f",
        "colab_type": "code",
        "colab": {}
      },
      "source": [
        "vgg16Mod.save(\"/content/Ciencia_Datos/EjemploCNN/model_jupyter_VGG16.h5\")"
      ],
      "execution_count": 0,
      "outputs": []
    },
    {
      "cell_type": "code",
      "metadata": {
        "id": "8mbhsOPUQZ7m",
        "colab_type": "code",
        "colab": {
          "base_uri": "https://localhost:8080/",
          "height": 295
        },
        "outputId": "9f0e64a2-dd43-471c-e206-0208c489a004"
      },
      "source": [
        "# Gráfica de la métrica de precisión\n",
        "plt.plot(history.history['accuracy'])\n",
        "plt.plot(history.history['val_accuracy'])\n",
        "plt.title('Accuracy Modelo')\n",
        "plt.ylabel('Accuracy')\n",
        "plt.xlabel('Iteración')\n",
        "plt.legend(['entrenamiento', 'validación'], loc='lower right')\n",
        "plt.show()"
      ],
      "execution_count": 35,
      "outputs": [
        {
          "output_type": "display_data",
          "data": {
            "image/png": "[encoded data removed]",
            "text/plain": [
              "<Figure size 432x288 with 1 Axes>"
            ]
          },
          "metadata": {
            "tags": []
          }
        }
      ]
    },
    {
      "cell_type": "code",
      "metadata": {
        "id": "H1BCDBqwjTHM",
        "colab_type": "code",
        "colab": {
          "base_uri": "https://localhost:8080/",
          "height": 295
        },
        "outputId": "89a5a9e6-5441-4b65-809e-5fda690e38c5"
      },
      "source": [
        "# Gráfica de la función de pérdida\n",
        "plt.plot(history.history['loss'])\n",
        "plt.plot(history.history['val_loss'])\n",
        "plt.title('Función de Pérdida Modelo')\n",
        "plt.ylabel('Pérdida')\n",
        "plt.xlabel('Iteración')\n",
        "plt.legend(['entrenamiento', 'validación'], loc='upper right')\n",
        "plt.show()"
      ],
      "execution_count": 36,
      "outputs": [
        {
          "output_type": "display_data",
          "data": {
            "image/png": "[encoded data removed]",
            "text/plain": [
              "<Figure size 432x288 with 1 Axes>"
            ]
          },
          "metadata": {
            "tags": []
          }
        }
      ]
    },
    {
      "cell_type": "code",
      "metadata": {
        "id": "hZ5OvtzsoVhS",
        "colab_type": "code",
        "colab": {
          "base_uri": "https://localhost:8080/",
          "height": 55
        },
        "outputId": "c2d0e856-af68-4f41-a5a5-31090bbf6367"
      },
      "source": [
        "# Load Model\n",
        "model_loaded = load_model(\"/content/Ciencia_Datos/EjemploCNN/model_jupyter_VGG16.h5\")"
      ],
      "execution_count": 37,
      "outputs": [
        {
          "output_type": "stream",
          "text": [
            "WARNING:tensorflow:Error in loading the saved optimizer state. As a result, your model is starting with a freshly initialized optimizer.\n"
          ],
          "name": "stdout"
        }
      ]
    },
    {
      "cell_type": "code",
      "metadata": {
        "id": "6n2VUpvSoVaP",
        "colab_type": "code",
        "colab": {
          "base_uri": "https://localhost:8080/",
          "height": 129
        },
        "outputId": "23d49e24-d9db-4972-80b5-2fbdf7269380"
      },
      "source": [
        "step_size_test=test_generator.n/test_generator.batch_size\n",
        "result_evaluate =  model_loaded.evaluate_generator(test_generator,step_size_test,verbose=1)\n",
        "print(result_evaluate)"
      ],
      "execution_count": 38,
      "outputs": [
        {
          "output_type": "stream",
          "text": [
            "WARNING:tensorflow:From <ipython-input-38-cec97c13445f>:2: Model.evaluate_generator (from tensorflow.python.keras.engine.training) is deprecated and will be removed in a future version.\n",
            "Instructions for updating:\n",
            "Please use Model.evaluate, which supports generators.\n",
            "300/300 [==============================] - 3s 8ms/step - loss: 0.6089 - accuracy: 0.7467\n",
            "[0.6089442372322083, 0.746666669845581]\n"
          ],
          "name": "stdout"
        }
      ]
    },
    {
      "cell_type": "code",
      "metadata": {
        "id": "Yvtrjx79sIxa",
        "colab_type": "code",
        "colab": {
          "base_uri": "https://localhost:8080/",
          "height": 333
        },
        "outputId": "d56ee5cd-c22f-4702-85c3-29ddd5be0c51"
      },
      "source": [
        "y_pred_prob =  model_loaded.predict_generator(test_generator, steps= step_size_test)\n",
        "y_pred_classes = np.argmax(y_pred_prob, axis=1)\n",
        "test_labels_one_hot = to_categorical(test_generator.classes)\n",
        "fpr = dict()\n",
        "tpr = dict()\n",
        "roc_auc = dict()\n",
        "for i in range(num_classes):\n",
        "    fpr[i], tpr[i], _ = roc_curve(test_labels_one_hot[:, i], y_pred_prob[:, i])\n",
        "    roc_auc[i] = auc(fpr[i], tpr[i])\n",
        "fpr[\"micro\"], tpr[\"micro\"], _ = roc_curve(test_labels_one_hot.ravel(), y_pred_prob.ravel())\n",
        "roc_auc[\"micro\"] = auc(fpr[\"micro\"], tpr[\"micro\"])\n",
        "all_fpr = np.unique(np.concatenate([fpr[i] for i in range(num_classes)]))\n",
        "\n",
        "# Then interpolate all ROC curves at this points\n",
        "mean_tpr = np.zeros_like(all_fpr)\n",
        "for i in range(num_classes):\n",
        "    mean_tpr += interp(all_fpr, fpr[i], tpr[i])\n",
        "\n",
        "# Finally average it and compute AUC\n",
        "mean_tpr /= num_classes\n",
        "\n",
        "fpr[\"macro\"] = all_fpr\n",
        "tpr[\"macro\"] = mean_tpr\n",
        "roc_auc[\"macro\"] = auc(fpr[\"macro\"], tpr[\"macro\"])\n",
        "\n",
        "# Plot all ROC curves\n",
        "plt.figure(1)\n",
        "plt.plot((fpr[\"micro\"]), (tpr[\"micro\"]),\n",
        "         label='micro-promedio curva de ROC (área = {0:0.2f})'\n",
        "               ''.format(roc_auc[\"micro\"]),\n",
        "         color='deeppink', linestyle=':', linewidth=4)\n",
        "\n",
        "\n",
        "plt.plot(fpr[\"macro\"], tpr[\"macro\"],\n",
        "         label='macro-promedio curva de ROC (área = {0:0.2f})'\n",
        "               ''.format(roc_auc[\"macro\"]),\n",
        "         color='navy', linestyle=':', linewidth=4)\n",
        "\n",
        "colors = cycle(['aqua', 'darkorange', 'cornflowerblue'])\n",
        "for i, color in zip(range(num_classes), colors):\n",
        "    plt.plot(fpr[i], tpr[i], color=color, lw=2,\n",
        "             label='Curvas de ROC de la clase {0} (área = {1:0.2f})'\n",
        "             ''.format(i, roc_auc[i]))\n",
        "\n",
        "plt.plot([0, 1], [0, 1], 'k--', lw=2)\n",
        "plt.xlim([0.0, 1.0])\n",
        "plt.ylim([0.0, 1.05])\n",
        "plt.xlabel('Tasa de Falsos Positivos')\n",
        "plt.ylabel('Tasa de Verdaderos Positivos')\n",
        "plt.title('Curvas de ROC')\n",
        "plt.legend(loc=\"lower right\")\n",
        "plt.show()"
      ],
      "execution_count": 41,
      "outputs": [
        {
          "output_type": "stream",
          "text": [
            "/usr/local/lib/python3.6/dist-packages/ipykernel_launcher.py:17: DeprecationWarning: scipy.interp is deprecated and will be removed in SciPy 2.0.0, use numpy.interp instead\n"
          ],
          "name": "stderr"
        },
        {
          "output_type": "display_data",
          "data": {
            "image/png": "[encoded data removed]",
            "text/plain": [
              "<Figure size 432x288 with 1 Axes>"
            ]
          },
          "metadata": {
            "tags": []
          }
        }
      ]
    },
    {
      "cell_type": "code",
      "metadata": {
        "id": "qfv-2eZ8sxxQ",
        "colab_type": "code",
        "colab": {
          "base_uri": "https://localhost:8080/",
          "height": 35
        },
        "outputId": "13d25095-574e-4b10-ef60-20ec65922874"
      },
      "source": [
        "# accuracy: (tp + tn) / (p + n)\n",
        "accuracy = accuracy_score(test_generator.classes, y_pred_classes)\n",
        "print('Accuracy: %f' % accuracy)"
      ],
      "execution_count": 42,
      "outputs": [
        {
          "output_type": "stream",
          "text": [
            "Accuracy: 0.726667\n"
          ],
          "name": "stdout"
        }
      ]
    },
    {
      "cell_type": "code",
      "metadata": {
        "id": "LOX4VjZVs0FU",
        "colab_type": "code",
        "colab": {
          "base_uri": "https://localhost:8080/",
          "height": 35
        },
        "outputId": "4f4d46d9-e4a5-4f45-ce0a-e5e5e9bd547d"
      },
      "source": [
        "# precision tp / (tp + fp)\n",
        "precision = precision_score(test_generator.classes, y_pred_classes, average = 'macro')\n",
        "print('Precision:', precision)"
      ],
      "execution_count": 43,
      "outputs": [
        {
          "output_type": "stream",
          "text": [
            "Precision: 0.740855927698033\n"
          ],
          "name": "stdout"
        }
      ]
    },
    {
      "cell_type": "code",
      "metadata": {
        "id": "E9l1zfXms1V1",
        "colab_type": "code",
        "colab": {
          "base_uri": "https://localhost:8080/",
          "height": 35
        },
        "outputId": "0e8c60bd-45c3-41b0-a5ef-ea84b7c2bb81"
      },
      "source": [
        "# recall: tp / (tp + fn)\n",
        "recall = recall_score(test_generator.classes, y_pred_classes, average = 'macro')\n",
        "print('Recall: %f' % recall)"
      ],
      "execution_count": 44,
      "outputs": [
        {
          "output_type": "stream",
          "text": [
            "Recall: 0.726667\n"
          ],
          "name": "stdout"
        }
      ]
    },
    {
      "cell_type": "code",
      "metadata": {
        "id": "8t06jPC-s3t8",
        "colab_type": "code",
        "colab": {
          "base_uri": "https://localhost:8080/",
          "height": 35
        },
        "outputId": "e73b8e2e-fcca-4104-fcfa-d97a69fafa61"
      },
      "source": [
        "# f1: 2 tp / (2 tp + fp + fn)\n",
        "f1 = f1_score(test_generator.classes, y_pred_classes, average = 'macro')\n",
        "print('F1 score: %f' % f1)"
      ],
      "execution_count": 45,
      "outputs": [
        {
          "output_type": "stream",
          "text": [
            "F1 score: 0.721144\n"
          ],
          "name": "stdout"
        }
      ]
    },
    {
      "cell_type": "code",
      "metadata": {
        "id": "PH0Aajwxs72l",
        "colab_type": "code",
        "colab": {
          "base_uri": "https://localhost:8080/",
          "height": 35
        },
        "outputId": "dd7ce844-9be9-4039-9755-5a0f34eec4af"
      },
      "source": [
        "# kappa\n",
        "kappa = cohen_kappa_score(test_generator.classes, y_pred_classes)\n",
        "print('Cohens kappa: %f' % kappa)"
      ],
      "execution_count": 46,
      "outputs": [
        {
          "output_type": "stream",
          "text": [
            "Cohens kappa: 0.590000\n"
          ],
          "name": "stdout"
        }
      ]
    },
    {
      "cell_type": "code",
      "metadata": {
        "id": "dV0wvE3ZtMNT",
        "colab_type": "code",
        "colab": {
          "base_uri": "https://localhost:8080/",
          "height": 72
        },
        "outputId": "77b4d353-3ef9-4893-a9ef-e416abc071b3"
      },
      "source": [
        "# confusion matrix\n",
        "matrix = confusion_matrix(test_generator.classes, y_pred_classes)\n",
        "print(matrix)"
      ],
      "execution_count": 47,
      "outputs": [
        {
          "output_type": "stream",
          "text": [
            "[[78  6 16]\n",
            " [34 54 12]\n",
            " [ 8  6 86]]\n"
          ],
          "name": "stdout"
        }
      ]
    },
    {
      "cell_type": "code",
      "metadata": {
        "id": "4tjB4gbXtNFh",
        "colab_type": "code",
        "colab": {
          "base_uri": "https://localhost:8080/",
          "height": 455
        },
        "outputId": "a5f47f91-4ead-49d5-8c41-00074670ed6e"
      },
      "source": [
        "cmap = plt.get_cmap('Blues')\n",
        "plt.figure(figsize=(8, 6))\n",
        "plt.imshow(matrix, interpolation='nearest',cmap=cmap)\n",
        "plt.title(\"Matriz de Confusión\")\n",
        "plt.colorbar()\n",
        "target_names = ['avión', 'barco', 'estadio']\n",
        "\n",
        "if target_names is not None:\n",
        "    tick_marks = np.arange(len(target_names))\n",
        "    plt.xticks(tick_marks, target_names, rotation=45)\n",
        "    plt.yticks(tick_marks, target_names)\n",
        "\n",
        "\n",
        "\n",
        "thresh = matrix.max() / 1.5\n",
        "matrix.max() / 2\n",
        "for i, j in itertools.product(range(matrix.shape[0]), range(matrix.shape[1])):\n",
        "        plt.text(j, i, \"{:,}\".format(matrix[i, j]),horizontalalignment=\"center\",color=\"white\" if matrix[i, j] > thresh else \"black\")\n",
        "\n",
        "plt.tight_layout()\n",
        "plt.ylabel('Etiqueta Verdadera')\n",
        "plt.xlabel('Etiqueta predicha ')\n",
        "plt.show()"
      ],
      "execution_count": 48,
      "outputs": [
        {
          "output_type": "display_data",
          "data": {
            "image/png": "[encoded data removed]",
            "text/plain": [
              "<Figure size 576x432 with 2 Axes>"
            ]
          },
          "metadata": {
            "tags": []
          }
        }
      ]
    }
  ]
}