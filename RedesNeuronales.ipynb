{
  "nbformat": 4,
  "nbformat_minor": 0,
  "metadata": {
    "colab": {
      "name": "RedesNeuronales.ipynb",
      "provenance": [],
      "collapsed_sections": [],
      "authorship_tag": "ABX9TyNpZYDlOlE3xxcXxEmUSTdY",
      "include_colab_link": true
    },
    "kernelspec": {
      "name": "python3",
      "display_name": "Python 3"
    }
  },
  "cells": [
    {
      "cell_type": "markdown",
      "metadata": {
        "id": "view-in-github",
        "colab_type": "text"
      },
      "source": [
        "<a href=\"https://colab.research.google.com/github/JuanARojasA/Ciencia_Datos/blob/master/RedesNeuronales.ipynb\" target=\"_parent\"><img src=\"https://colab.research.google.com/assets/colab-badge.svg\" alt=\"Open In Colab\"/></a>"
      ]
    },
    {
      "cell_type": "code",
      "metadata": {
        "id": "o3ARe-t29Apj",
        "colab_type": "code",
        "colab": {}
      },
      "source": [
        "import pandas as pd\n",
        "import sklearn\n",
        "from sklearn import datasets\n",
        "from sklearn.preprocessing import StandardScaler\n",
        "from sklearn.neural_network import MLPClassifier\n",
        "from sklearn.metrics import classification_report"
      ],
      "execution_count": 0,
      "outputs": []
    },
    {
      "cell_type": "code",
      "metadata": {
        "id": "7_5Qs1PU9G4F",
        "colab_type": "code",
        "colab": {
          "base_uri": "https://localhost:8080/",
          "height": 119
        },
        "outputId": "b73e0842-5039-4d2c-b151-d3fd9920a4d2"
      },
      "source": [
        "df = pd.read_csv('https://raw.githubusercontent.com/JuanARojasA/Ciencia_Datos/master/Taller7/semeion.csv', header=None)\n",
        "df = df.sample(frac=1)\n",
        "\n",
        "x_train = df.iloc[0:1116,0:256]\n",
        "y_train = df.iloc[0:1116,256]\n",
        "x_test = df.iloc[1116:1593,0:256]\n",
        "y_test = df.iloc[1116:1593,256]\n",
        "\n",
        "print(\"Printing some sample data from the iris dataset\")\n",
        "for training_sample in list(zip(x_train,y_train))[:5]:\n",
        "    print(training_sample)"
      ],
      "execution_count": 15,
      "outputs": [
        {
          "output_type": "stream",
          "text": [
            "Printing some sample data from the iris dataset\n",
            "(0, 8)\n",
            "(1, 0)\n",
            "(2, 3)\n",
            "(3, 5)\n",
            "(4, 8)\n"
          ],
          "name": "stdout"
        }
      ]
    },
    {
      "cell_type": "code",
      "metadata": {
        "id": "XMEOYasjChPP",
        "colab_type": "code",
        "colab": {
          "base_uri": "https://localhost:8080/",
          "height": 153
        },
        "outputId": "8b71c562-6376-47c7-ad80-691d2924825c"
      },
      "source": [
        "iterations=1000 \n",
        "hidden_layers=[16,16,16]\n",
        " \n",
        "mlp = MLPClassifier(hidden_layer_sizes=(hidden_layers), max_iter=iterations) \n",
        "mlp.fit(x_train, y_train)"
      ],
      "execution_count": 44,
      "outputs": [
        {
          "output_type": "execute_result",
          "data": {
            "text/plain": [
              "MLPClassifier(activation='relu', alpha=0.0001, batch_size='auto', beta_1=0.9,\n",
              "              beta_2=0.999, early_stopping=False, epsilon=1e-08,\n",
              "              hidden_layer_sizes=[16, 16, 16], learning_rate='constant',\n",
              "              learning_rate_init=0.001, max_fun=15000, max_iter=1000,\n",
              "              momentum=0.9, n_iter_no_change=10, nesterovs_momentum=True,\n",
              "              power_t=0.5, random_state=None, shuffle=True, solver='adam',\n",
              "              tol=0.0001, validation_fraction=0.1, verbose=False,\n",
              "              warm_start=False)"
            ]
          },
          "metadata": {
            "tags": []
          },
          "execution_count": 44
        }
      ]
    },
    {
      "cell_type": "code",
      "metadata": {
        "id": "-DF_VoZACnSn",
        "colab_type": "code",
        "colab": {
          "base_uri": "https://localhost:8080/",
          "height": 204
        },
        "outputId": "0002183e-7c6c-45e8-9772-65338d285692"
      },
      "source": [
        "predicted = mlp.predict(x_test)  \n",
        " \n",
        "print(\"Evaluation: considering the confusion matrix\")\n",
        "from sklearn.metrics import confusion_matrix\n",
        "print(confusion_matrix(y_test,predicted))  "
      ],
      "execution_count": 45,
      "outputs": [
        {
          "output_type": "stream",
          "text": [
            "Evaluation: considering the confusion matrix\n",
            "[[52  0  0  0  2  3  0  0  1  0]\n",
            " [ 0 42  1  0  1  0  0  1  1  0]\n",
            " [ 0  1 50  0  1  1  1  0  2  0]\n",
            " [ 0  0  0 37  0  0  0  2  1  5]\n",
            " [ 0  3  0  0 41  0  0  0  0  0]\n",
            " [ 0  0  0  1  0 36  1  1  1  0]\n",
            " [ 1  0  0  0  1  1 47  0  0  0]\n",
            " [ 1  0  1  2  1  0  0 43  0  0]\n",
            " [ 0  0  1  0  0  0  0  0 42  1]\n",
            " [ 0  0  0  0  1  2  0  0  0 43]]\n"
          ],
          "name": "stdout"
        }
      ]
    },
    {
      "cell_type": "code",
      "metadata": {
        "id": "Wucv-hgBCr0X",
        "colab_type": "code",
        "colab": {
          "base_uri": "https://localhost:8080/",
          "height": 323
        },
        "outputId": "d575aaa4-d07b-4df1-8743-a07c6a245527"
      },
      "source": [
        "print(\"Evaluation report:\")\n",
        "print(classification_report(y_test,predicted)) "
      ],
      "execution_count": 46,
      "outputs": [
        {
          "output_type": "stream",
          "text": [
            "Evaluation report:\n",
            "              precision    recall  f1-score   support\n",
            "\n",
            "           0       0.96      0.90      0.93        58\n",
            "           1       0.91      0.91      0.91        46\n",
            "           2       0.94      0.89      0.92        56\n",
            "           3       0.93      0.82      0.87        45\n",
            "           4       0.85      0.93      0.89        44\n",
            "           5       0.84      0.90      0.87        40\n",
            "           6       0.96      0.94      0.95        50\n",
            "           7       0.91      0.90      0.91        48\n",
            "           8       0.88      0.95      0.91        44\n",
            "           9       0.88      0.93      0.91        46\n",
            "\n",
            "    accuracy                           0.91       477\n",
            "   macro avg       0.91      0.91      0.91       477\n",
            "weighted avg       0.91      0.91      0.91       477\n",
            "\n"
          ],
          "name": "stdout"
        }
      ]
    },
    {
      "cell_type": "markdown",
      "metadata": {
        "id": "b-WMUbKZGQ3n",
        "colab_type": "text"
      },
      "source": [
        "El sistema para la clase 0, obtuvo una precisión del 96%, lo cual indíca cuales datos de esta clase fueron clasificados correctamente, con respecto a todos aquellos que se clasificaron como clase 0."
      ]
    },
    {
      "cell_type": "markdown",
      "metadata": {
        "id": "njO0SkdbIWVv",
        "colab_type": "text"
      },
      "source": [
        "La recuperación del sistema (Recall), para la clase 1 fue del 91%, lo cual índica cuales datos se clasificaron correctamente, con respecto a la cantidad total de datos que pertenecían a esta clase."
      ]
    },
    {
      "cell_type": "markdown",
      "metadata": {
        "id": "IsOKmEEWJr2s",
        "colab_type": "text"
      },
      "source": [
        "La exactitu del sistema fue del 91% en promedio, lo cual índica que de la totalidad de la muestra se clasificaron correctamente esa cantidad."
      ]
    },
    {
      "cell_type": "markdown",
      "metadata": {
        "id": "0uziNBeML4dZ",
        "colab_type": "text"
      },
      "source": [
        "El support índica la cantidad de datos de la clase."
      ]
    },
    {
      "cell_type": "markdown",
      "metadata": {
        "id": "ukHb6mMFMaKP",
        "colab_type": "text"
      },
      "source": [
        "El f1-Score es un balance entre la recuperación y la precisión del sistema. Esta medida es una mejora de la exactitud, ya que permite tener una mejor metrica al tener en cuenta la cantidad de negativos."
      ]
    },
    {
      "cell_type": "markdown",
      "metadata": {
        "id": "-MqeDMU6NpOA",
        "colab_type": "text"
      },
      "source": [
        "Juan Andrés Rojas Álvarez - 20141020031 \\\\\n",
        "Cristian David Santoyo Parra - 20141020077"
      ]
    },
    {
      "cell_type": "code",
      "metadata": {
        "id": "nP0Dpp2yNyq9",
        "colab_type": "code",
        "colab": {}
      },
      "source": [
        ""
      ],
      "execution_count": 0,
      "outputs": []
    }
  ]
}